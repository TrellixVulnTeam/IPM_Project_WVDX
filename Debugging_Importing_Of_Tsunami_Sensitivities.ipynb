{
 "cells": [
  {
   "cell_type": "code",
   "execution_count": null,
   "metadata": {},
   "outputs": [],
   "source": [
    "### Debugging the importing of tsunami senstivities into the code...\n",
    "import py_funct\n",
    "import scale_file_handler\n",
    "import MT_Clutch_Tools_v1"
   ]
  },
  {
   "cell_type": "code",
   "execution_count": null,
   "metadata": {},
   "outputs": [],
   "source": [
    "proposed_betas = [0.1,\n",
    "                  0.1,\n",
    "                  0.1,\n",
    "                  0.1,\n",
    "                  0.1,\n",
    "                  0.1,\n",
    "                  0.1,\n",
    "                  0.1,\n",
    "                  0.1,\n",
    "                  0.1,\n",
    "                  0.1,\n",
    "                  0.1,\n",
    "                  0.1,\n",
    "                  0.1,\n",
    "                  0.1,\n",
    "                  0.1,\n",
    "                  0.1,\n",
    "                  0.1,\n",
    "                  0.1,\n",
    "                  0.1]\n",
    "sfh = scale_file_handler.scale_file_handler()"
   ]
  },
  {
   "cell_type": "code",
   "execution_count": null,
   "metadata": {},
   "outputs": [],
   "source": [
    "ts_obj = py_funct.tsunami_job_object(sfh, proposed_betas)"
   ]
  },
  {
   "cell_type": "code",
   "execution_count": null,
   "metadata": {},
   "outputs": [],
   "source": [
    "ts_obj.evaluate_current_step_v3()"
   ]
  },
  {
   "cell_type": "code",
   "execution_count": null,
   "metadata": {},
   "outputs": [],
   "source": []
  },
  {
   "cell_type": "code",
   "execution_count": null,
   "metadata": {},
   "outputs": [],
   "source": []
  },
  {
   "cell_type": "code",
   "execution_count": null,
   "metadata": {},
   "outputs": [],
   "source": []
  },
  {
   "cell_type": "code",
   "execution_count": null,
   "metadata": {},
   "outputs": [],
   "source": []
  },
  {
   "cell_type": "code",
   "execution_count": null,
   "metadata": {},
   "outputs": [],
   "source": []
  }
 ],
 "metadata": {
  "kernelspec": {
   "display_name": "Python 3",
   "language": "python",
   "name": "python3"
  },
  "language_info": {
   "codemirror_mode": {
    "name": "ipython",
    "version": 3
   },
   "file_extension": ".py",
   "mimetype": "text/x-python",
   "name": "python",
   "nbconvert_exporter": "python",
   "pygments_lexer": "ipython3",
   "version": "3.7.4"
  }
 },
 "nbformat": 4,
 "nbformat_minor": 2
}
